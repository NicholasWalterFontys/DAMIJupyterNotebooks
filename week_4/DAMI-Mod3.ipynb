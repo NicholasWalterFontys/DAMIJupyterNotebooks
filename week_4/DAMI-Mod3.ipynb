{
 "cells": [
  {
   "cell_type": "markdown",
   "metadata": {},
   "source": [
    "# Module 3 notebook - pandas"
   ]
  },
  {
   "cell_type": "markdown",
   "metadata": {},
   "source": [
    "## Introduction\n",
    "\n",
    "This workbook contains my results for the assignment as specified below. I'll start, however, with a few pandas exercises from the DataCamp source:\n",
    "\n",
    "- [chapter 1 from _Manipulating DataFrames with pandas_](http://bit.ly/2ftzLk0)"
   ]
  },
  {
   "cell_type": "code",
   "execution_count": null,
   "metadata": {
    "collapsed": true
   },
   "outputs": [],
   "source": [
    "# Zip the 2 lists together into one list of (key,value) tuples: zipped\n",
    "zipped = list(zip(list_keys, list_values))\n",
    "\n",
    "# Inspect the list using print()\n",
    "print(zipped)\n",
    "\n",
    "# Build a dictionary with the zipped list: data\n",
    "data = dict(zipped)\n",
    "\n",
    "# Build and inspect a DataFrame from the dictionary: df\n",
    "df = pd.DataFrame(data)\n",
    "print(df)"
   ]
  },
  {
   "cell_type": "code",
   "execution_count": null,
   "metadata": {
    "collapsed": true
   },
   "outputs": [],
   "source": [
    "# Make a string with the value 'PA': state\n",
    "state = \"PA\"\n",
    "\n",
    "# Construct a dictionary: data\n",
    "data = {'state': state, 'city': cities}\n",
    "\n",
    "# Construct a DataFrame from dictionary data: df\n",
    "df = pd.DataFrame(data)\n",
    "\n",
    "# Print the DataFrame\n",
    "print(df)\n"
   ]
  },
  {
   "cell_type": "code",
   "execution_count": null,
   "metadata": {
    "collapsed": true
   },
   "outputs": [],
   "source": [
    "# Create a plot with color='red'\n",
    "df.plot(color=\"red\", grid=True)\n",
    "\n",
    "# Add a title\n",
    "plt.title(\"Temperature in Austin\")\n",
    "\n",
    "# Specify the x-axis label\n",
    "plt.xlabel(\"Hours since midnight August 1, 2010\")\n",
    "\n",
    "# Specify the y-axis label\n",
    "plt.ylabel(\"Temperature (degrees F)\")\n",
    "\n",
    "# Display the plot\n",
    "plt.show()\n",
    "\n",
    "print(type(plt))"
   ]
  },
  {
   "cell_type": "code",
   "execution_count": null,
   "metadata": {
    "collapsed": true
   },
   "outputs": [],
   "source": [
    "# Plot all columns (default)\n",
    "df.plot()\n",
    "plt.show()\n",
    "\n",
    "# Plot all columns as subplots\n",
    "df.plot(subplots=True)\n",
    "plt.show()\n",
    "\n",
    "# Plot just the Dew Point data\n",
    "column_list1 = ['Dew Point (deg F)']\n",
    "df[column_list1].plot()\n",
    "plt.show()\n",
    "\n",
    "# Plot the Dew Point and Temperature data, but not the Pressure data\n",
    "column_list2 = ['Temperature (deg F)','Dew Point (deg F)']\n",
    "df[column_list2].plot()\n",
    "plt.show()\n"
   ]
  },
  {
   "cell_type": "markdown",
   "metadata": {},
   "source": [
    "## Assignment - Using pandas on my home brew data set\n",
    "\n",
    "### Introduction\n",
    "\n",
    "This assignment is an analysis exercise. It is not as much about the meaning of the analysis you will conduct as it is on the demonstration of common functionality you will use when doing data analysis with pandas. So first an for all it is a demonstration of your pandas skills.\n",
    "\n",
    "### Step 1: data set construction\n",
    "\n",
    "Construct an artificial dataset using either Excel, Google Sheets or numpy. Your constructed dataset has at least:\n",
    "\n",
    "1. 100 rows (measurements/events)\n",
    "1. 4 columns (variables)\n",
    "1. one date column with random daily dates in a period of at least 6 months\n",
    "1. 2 columns containing categorical variables\n",
    "1. 2 columns containing numerical variables\n",
    "\n",
    "You can use Excel's\n",
    "- rand()\n",
    "- randbetween()\n",
    "- norm.inv()\n",
    "- date()\n",
    "- vlookup()\n",
    "\n",
    "functions (or Google Sheets' equivalents) to construct your data set. If you use numpy. you can use the versatile random functions in it. If you wish you can polish your dataset by changing some randomly generated values by hand.\n",
    "\n",
    "Make up a story around your data. In other words: give your data meaning by explaining what your data represents. Being creative in making up your story helps you in improving the joy of doing this exercise! Even better: fabricate some compelling facts in your data that you will extract in your analysis of it.\n",
    "\n",
    "### Step 2: doing the analysis in pandas\n",
    "\n",
    "Conduct an analysis on your data set. Demonstrate your skills in using the following pandas functionality\n",
    "\n",
    "- creating indexes and multiply indices\n",
    "- stacking and unstacking indices\n",
    "- indexing and slicing using loc() and iloc()\n",
    "- using pivot table functionality\n",
    "- using grouping functionality both on categorical variables as on datetime variables\n",
    "- using basic statistical functions as count, mean, average and min/max\n",
    "- plotting (parts of) your data using pandas plotting functionality and seaborn\n",
    "\n",
    "Also, use an alternative SQL approach for one of your analysis steps. Just show that you are capable of leveraging your SQL skills in pandas.\n",
    "\n",
    "Annotate your analysis using markdown cells in your notebook. Briefly introduce each step in your analysis you take and lead your reader through your analysis. Here you have to apply your creativity to make up a sensible, interesting story for your user.\n",
    "\n",
    "Tip: consult the [Python Data Science Handbook](http://bit.ly/2ftE137). It has an excellent chapter on pandas with examples for all techniques you are asked to demonstrate."
   ]
  },
  {
   "cell_type": "code",
   "execution_count": 2,
   "metadata": {
    "collapsed": true
   },
   "outputs": [],
   "source": [
    "import datetime as dt\n",
    "import numpy as np\n",
    "import pandas as pd\n",
    "import random\n",
    "\n",
    "\n",
    "def get_random_dates(start_date=\"2017-01-01\", max_days=365, length=100):\n",
    "    return [np.datetime64(start_date) + range(max_days)[random.randint(0, max_days -1)] for i in range(length)]\n",
    "\n",
    "\n",
    "def get_random_cities(cities=[\"Berlin\", \"Düsseldorf\", \"Köln\", \"Stuttgart\", \"München\"], length=100):\n",
    "    return [cities[random.randint(0, len(cities) - 1)] for i in range(100)]\n",
    "\n",
    "\n",
    "def get_random_feinstaubwerte(diesel=None, min=5, max=30, length=100):\n",
    "    if diesel is None:\n",
    "        return [random.uniform(min, max) for i in range(length)]\n",
    "    result = []\n",
    "    for i in diesel:\n",
    "        value = random.uniform(min, max)\n",
    "        if i > 50:\n",
    "            value *= 1.5\n",
    "        result.append(value)\n",
    "    return result\n",
    "\n",
    "\n",
    "def get_random_diesel_percentage(length=100):\n",
    "    return [random.randint(45, 65) for i in range(length)]\n",
    "\n",
    "\n",
    "def get_random_dataframe(my_length=100):\n",
    "    dates = get_random_dates(length=my_length)\n",
    "    cities = get_random_cities(length=my_length)\n",
    "    diesel = get_random_diesel_percentage(length=my_length)\n",
    "    feinstaub = get_random_feinstaubwerte(diesel=diesel, length=my_length)\n",
    "    \n",
    "    result = pd.DataFrame({\"date\": dates, \"city\": cities,\n",
    "                           \"feinstaub\": feinstaub, \"diesel\": diesel})\n",
    "\n",
    "    result.drop_duplicates(subset=[\"date\", \"city\"], inplace=True)\n",
    "\n",
    "    result.sort_values(\"date\", inplace=True)\n",
    "    return result\n",
    "\n",
    "\n",
    "def main():\n",
    "    dates = get_random_dates()\n",
    "    cities = get_random_cities()\n",
    "    diesel = get_random_diesel_percentage()\n",
    "    feinstaubwerte = get_random_feinstaubwerte(diesel)\n",
    "    \n",
    "\n",
    "    a = open(\"data.csv\", \"w\")\n",
    "    a.write(\"date,city,feinstaub,dieselanteil\")\n",
    "    for i in range(100):\n",
    "        a.write(\"{},{},{},{}\\n\".format(dates[i],\n",
    "                                     cities[i],\n",
    "                                     feinstaubwerte[i],\n",
    "                                     diesel[i]))\n",
    "    a.close()\n",
    "\n",
    "\n",
    "if __name__ == \"__main__\":\n",
    "    main()"
   ]
  },
  {
   "cell_type": "code",
   "execution_count": 21,
   "metadata": {},
   "outputs": [
    {
     "name": "stdout",
     "output_type": "stream",
     "text": [
      "          city       date  diesel  feinstaub\n",
      "11        Köln 2017-01-08      49  22.970546\n",
      "28        Köln 2017-01-12      46  19.078210\n",
      "54        Köln 2017-01-14      61  37.780074\n",
      "6       Berlin 2017-01-14      64  25.638973\n",
      "58      Berlin 2017-01-16      54  32.313172\n",
      "34   Stuttgart 2017-01-17      49  18.867287\n",
      "0      München 2017-01-19      56  37.539936\n",
      "97      Berlin 2017-01-19      59  37.673066\n",
      "9       Berlin 2017-01-22      57   7.604254\n",
      "59      Berlin 2017-01-24      51  35.989034\n",
      "56      Berlin 2017-01-26      62  34.318123\n",
      "50      Berlin 2017-02-03      55  43.504067\n",
      "87  Düsseldorf 2017-02-08      56  22.873463\n",
      "32      Berlin 2017-02-19      53  43.611214\n",
      "17  Düsseldorf 2017-02-22      52  38.748611\n",
      "3    Stuttgart 2017-02-22      54  28.447357\n",
      "23      Berlin 2017-02-22      46  16.949359\n",
      "16  Düsseldorf 2017-02-28      56  43.947670\n",
      "63  Düsseldorf 2017-03-04      45  21.875281\n",
      "46      Berlin 2017-03-10      62  18.303135\n",
      "31  Düsseldorf 2017-03-14      64  36.715114\n",
      "47   Stuttgart 2017-03-16      65  10.024753\n",
      "19  Düsseldorf 2017-03-18      56  10.530598\n",
      "5       Berlin 2017-03-19      58  44.775547\n",
      "21        Köln 2017-03-24      60  39.561586\n",
      "2    Stuttgart 2017-03-24      47  11.288662\n",
      "75     München 2017-03-25      56  15.320267\n",
      "15   Stuttgart 2017-03-26      53  32.777060\n",
      "1   Düsseldorf 2017-03-29      59  30.343878\n",
      "7    Stuttgart 2017-04-06      59  24.337266\n",
      "..         ...        ...     ...        ...\n",
      "60      Berlin 2017-09-10      47  24.906949\n",
      "25   Stuttgart 2017-09-10      46   6.486615\n",
      "14   Stuttgart 2017-09-11      55  36.535790\n",
      "4   Düsseldorf 2017-09-13      59  16.492297\n",
      "38      Berlin 2017-09-16      47  24.602730\n",
      "27      Berlin 2017-09-20      61  43.502730\n",
      "44      Berlin 2017-09-27      65  10.227714\n",
      "36        Köln 2017-09-28      56  17.690545\n",
      "35   Stuttgart 2017-09-30      47   5.672333\n",
      "84      Berlin 2017-10-03      48   9.394413\n",
      "79     München 2017-10-16      51  21.637531\n",
      "72        Köln 2017-10-16      63  10.292480\n",
      "33   Stuttgart 2017-10-19      49  12.510115\n",
      "10   Stuttgart 2017-10-20      45   9.779217\n",
      "24  Düsseldorf 2017-10-20      53  35.722252\n",
      "73     München 2017-10-22      60  19.426603\n",
      "57  Düsseldorf 2017-10-26      58  31.146782\n",
      "12        Köln 2017-10-27      50  20.189358\n",
      "91      Berlin 2017-10-29      53  21.852494\n",
      "76   Stuttgart 2017-11-03      58  39.300387\n",
      "78      Berlin 2017-11-18      56  40.088205\n",
      "82   Stuttgart 2017-11-27      51  31.264271\n",
      "85  Düsseldorf 2017-12-02      51  13.312587\n",
      "18   Stuttgart 2017-12-02      53  41.366677\n",
      "51  Düsseldorf 2017-12-11      48  27.143654\n",
      "20   Stuttgart 2017-12-14      55  33.004401\n",
      "93  Düsseldorf 2017-12-14      63  18.183176\n",
      "67        Köln 2017-12-22      51   8.221001\n",
      "22   Stuttgart 2017-12-25      45  20.184385\n",
      "80  Düsseldorf 2017-12-30      62  18.375552\n",
      "\n",
      "[96 rows x 4 columns]\n"
     ]
    },
    {
     "ename": "TypeError",
     "evalue": "string indices must be integers",
     "output_type": "error",
     "traceback": [
      "\u001b[0;31m---------------------------------------------------------------------------\u001b[0m",
      "\u001b[0;31mTypeError\u001b[0m                                 Traceback (most recent call last)",
      "\u001b[0;32m<ipython-input-21-975c6c624fb6>\u001b[0m in \u001b[0;36m<module>\u001b[0;34m()\u001b[0m\n\u001b[1;32m     14\u001b[0m \u001b[0;34m\u001b[0m\u001b[0m\n\u001b[1;32m     15\u001b[0m \u001b[0;32mfor\u001b[0m \u001b[0mi\u001b[0m \u001b[0;32min\u001b[0m \u001b[0mrange\u001b[0m\u001b[0;34m(\u001b[0m\u001b[0;36m1\u001b[0m\u001b[0;34m,\u001b[0m \u001b[0;36m13\u001b[0m\u001b[0;34m)\u001b[0m\u001b[0;34m:\u001b[0m\u001b[0;34m\u001b[0m\u001b[0m\n\u001b[0;32m---> 16\u001b[0;31m     \u001b[0mprint\u001b[0m\u001b[0;34m(\u001b[0m\u001b[0mget_month\u001b[0m\u001b[0;34m(\u001b[0m\u001b[0mi\u001b[0m\u001b[0;34m,\u001b[0m \u001b[0ma\u001b[0m\u001b[0;34m)\u001b[0m\u001b[0;34m)\u001b[0m\u001b[0;34m\u001b[0m\u001b[0m\n\u001b[0m\u001b[1;32m     17\u001b[0m \u001b[0;34m\u001b[0m\u001b[0m\n\u001b[1;32m     18\u001b[0m \u001b[0;34m\u001b[0m\u001b[0m\n",
      "\u001b[0;32m<ipython-input-21-975c6c624fb6>\u001b[0m in \u001b[0;36mget_month\u001b[0;34m(month_number, df)\u001b[0m\n\u001b[1;32m     11\u001b[0m \u001b[0;34m\u001b[0m\u001b[0m\n\u001b[1;32m     12\u001b[0m \u001b[0;32mdef\u001b[0m \u001b[0mget_month\u001b[0m\u001b[0;34m(\u001b[0m\u001b[0mmonth_number\u001b[0m\u001b[0;34m,\u001b[0m \u001b[0mdf\u001b[0m\u001b[0;34m)\u001b[0m\u001b[0;34m:\u001b[0m\u001b[0;34m\u001b[0m\u001b[0m\n\u001b[0;32m---> 13\u001b[0;31m     \u001b[0;32mreturn\u001b[0m \u001b[0;34m[\u001b[0m\u001b[0ml\u001b[0m \u001b[0;32mfor\u001b[0m \u001b[0ml\u001b[0m \u001b[0;32min\u001b[0m \u001b[0mdf\u001b[0m \u001b[0;32mif\u001b[0m \u001b[0ml\u001b[0m\u001b[0;34m[\u001b[0m\u001b[0;34m\"date\"\u001b[0m\u001b[0;34m]\u001b[0m\u001b[0;34m.\u001b[0m\u001b[0mto_pydatetime\u001b[0m\u001b[0;34m(\u001b[0m\u001b[0;34m)\u001b[0m\u001b[0;34m.\u001b[0m\u001b[0mmonth\u001b[0m \u001b[0;34m==\u001b[0m \u001b[0mmonth_number\u001b[0m\u001b[0;34m]\u001b[0m\u001b[0;34m\u001b[0m\u001b[0m\n\u001b[0m\u001b[1;32m     14\u001b[0m \u001b[0;34m\u001b[0m\u001b[0m\n\u001b[1;32m     15\u001b[0m \u001b[0;32mfor\u001b[0m \u001b[0mi\u001b[0m \u001b[0;32min\u001b[0m \u001b[0mrange\u001b[0m\u001b[0;34m(\u001b[0m\u001b[0;36m1\u001b[0m\u001b[0;34m,\u001b[0m \u001b[0;36m13\u001b[0m\u001b[0;34m)\u001b[0m\u001b[0;34m:\u001b[0m\u001b[0;34m\u001b[0m\u001b[0m\n",
      "\u001b[0;32m<ipython-input-21-975c6c624fb6>\u001b[0m in \u001b[0;36m<listcomp>\u001b[0;34m(.0)\u001b[0m\n\u001b[1;32m     11\u001b[0m \u001b[0;34m\u001b[0m\u001b[0m\n\u001b[1;32m     12\u001b[0m \u001b[0;32mdef\u001b[0m \u001b[0mget_month\u001b[0m\u001b[0;34m(\u001b[0m\u001b[0mmonth_number\u001b[0m\u001b[0;34m,\u001b[0m \u001b[0mdf\u001b[0m\u001b[0;34m)\u001b[0m\u001b[0;34m:\u001b[0m\u001b[0;34m\u001b[0m\u001b[0m\n\u001b[0;32m---> 13\u001b[0;31m     \u001b[0;32mreturn\u001b[0m \u001b[0;34m[\u001b[0m\u001b[0ml\u001b[0m \u001b[0;32mfor\u001b[0m \u001b[0ml\u001b[0m \u001b[0;32min\u001b[0m \u001b[0mdf\u001b[0m \u001b[0;32mif\u001b[0m \u001b[0ml\u001b[0m\u001b[0;34m[\u001b[0m\u001b[0;34m\"date\"\u001b[0m\u001b[0;34m]\u001b[0m\u001b[0;34m.\u001b[0m\u001b[0mto_pydatetime\u001b[0m\u001b[0;34m(\u001b[0m\u001b[0;34m)\u001b[0m\u001b[0;34m.\u001b[0m\u001b[0mmonth\u001b[0m \u001b[0;34m==\u001b[0m \u001b[0mmonth_number\u001b[0m\u001b[0;34m]\u001b[0m\u001b[0;34m\u001b[0m\u001b[0m\n\u001b[0m\u001b[1;32m     14\u001b[0m \u001b[0;34m\u001b[0m\u001b[0m\n\u001b[1;32m     15\u001b[0m \u001b[0;32mfor\u001b[0m \u001b[0mi\u001b[0m \u001b[0;32min\u001b[0m \u001b[0mrange\u001b[0m\u001b[0;34m(\u001b[0m\u001b[0;36m1\u001b[0m\u001b[0;34m,\u001b[0m \u001b[0;36m13\u001b[0m\u001b[0;34m)\u001b[0m\u001b[0;34m:\u001b[0m\u001b[0;34m\u001b[0m\u001b[0m\n",
      "\u001b[0;31mTypeError\u001b[0m: string indices must be integers"
     ]
    }
   ],
   "source": [
    "# analysing created data\n",
    "\n",
    "a = get_random_dataframe()\n",
    "\n",
    "# have a look at raw data first\n",
    "print(a)\n",
    "\n",
    "# see if any one city has higher values for fine dust, conclusion should be no (random data, results may vary)\n",
    "a.groupby(\"city\").mean()\n",
    "\n",
    "\n",
    "def get_month(month_number, df):\n",
    "    return [l for l in df if l[\"date\"].to_pydatetime().month == month_number]\n",
    "\n",
    "for i in range(1, 13):\n",
    "    print(get_month(i, a))\n",
    "\n",
    "\n"
   ]
  },
  {
   "cell_type": "code",
   "execution_count": 6,
   "metadata": {},
   "outputs": [
    {
     "data": {
      "text/plain": [
       "<seaborn.axisgrid.FacetGrid at 0x7f22d4b77320>"
      ]
     },
     "execution_count": 6,
     "metadata": {},
     "output_type": "execute_result"
    },
    {
     "data": {
      "image/png": "[encoded data removed]",
      "text/plain": [
       "<matplotlib.figure.Figure at 0x7f22d4b77da0>"
      ]
     },
     "metadata": {},
     "output_type": "display_data"
    },
    {
     "data": {
      "image/png": "[encoded data removed]",
      "text/plain": [
       "<matplotlib.figure.Figure at 0x7f22d4b77198>"
      ]
     },
     "metadata": {},
     "output_type": "display_data"
    }
   ],
   "source": [
    "# plotting simple relation between diesel percentage and fine dust measurements\n",
    "# difficult to find any meaningful data in this plot\n",
    "a.sort_values(\"diesel\").plot(x=\"diesel\", y=\"feinstaub\", style=\"-\")\n",
    "\n",
    "# using seaborn to draw linear regression model\n",
    "# shows slight rise in fine dust values with rising diesel percentages\n",
    "# as expected, random data was manipulated to show this\n",
    "import seaborn as sns\n",
    "sns.lmplot(x='diesel',y='feinstaub',data=a,fit_reg=True, ci=0) "
   ]
  }
 ],
 "metadata": {
  "kernelspec": {
   "display_name": "Python 3",
   "language": "python",
   "name": "python3"
  },
  "language_info": {
   "codemirror_mode": {
    "name": "ipython",
    "version": 3
   },
   "file_extension": ".py",
   "mimetype": "text/x-python",
   "name": "python",
   "nbconvert_exporter": "python",
   "pygments_lexer": "ipython3",
   "version": "3.5.4"
  }
 },
 "nbformat": 4,
 "nbformat_minor": 2
}
