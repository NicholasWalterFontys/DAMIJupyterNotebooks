{
 "cells": [
  {
   "cell_type": "markdown",
   "metadata": {},
   "source": [
    "# Module 3 notebook - pandas"
   ]
  },
  {
   "cell_type": "markdown",
   "metadata": {},
   "source": [
    "## Introduction\n",
    "\n",
    "This workbook contains my results for the assignment as specified below. I'll start, however, with a few pandas exercises from the DataCamp source:\n",
    "\n",
    "- [chapter 1 from _Manipulating DataFrames with pandas_](http://bit.ly/2ftzLk0)"
   ]
  },
  {
   "cell_type": "code",
   "execution_count": null,
   "metadata": {
    "collapsed": true
   },
   "outputs": [],
   "source": [
    "# Zip the 2 lists together into one list of (key,value) tuples: zipped\n",
    "zipped = list(zip(list_keys, list_values))\n",
    "\n",
    "# Inspect the list using print()\n",
    "print(zipped)\n",
    "\n",
    "# Build a dictionary with the zipped list: data\n",
    "data = dict(zipped)\n",
    "\n",
    "# Build and inspect a DataFrame from the dictionary: df\n",
    "df = pd.DataFrame(data)\n",
    "print(df)"
   ]
  },
  {
   "cell_type": "code",
   "execution_count": null,
   "metadata": {
    "collapsed": true
   },
   "outputs": [],
   "source": [
    "# Make a string with the value 'PA': state\n",
    "state = \"PA\"\n",
    "\n",
    "# Construct a dictionary: data\n",
    "data = {'state': state, 'city': cities}\n",
    "\n",
    "# Construct a DataFrame from dictionary data: df\n",
    "df = pd.DataFrame(data)\n",
    "\n",
    "# Print the DataFrame\n",
    "print(df)\n"
   ]
  },
  {
   "cell_type": "code",
   "execution_count": null,
   "metadata": {
    "collapsed": true
   },
   "outputs": [],
   "source": [
    "# Create a plot with color='red'\n",
    "df.plot(color=\"red\", grid=True)\n",
    "\n",
    "# Add a title\n",
    "plt.title(\"Temperature in Austin\")\n",
    "\n",
    "# Specify the x-axis label\n",
    "plt.xlabel(\"Hours since midnight August 1, 2010\")\n",
    "\n",
    "# Specify the y-axis label\n",
    "plt.ylabel(\"Temperature (degrees F)\")\n",
    "\n",
    "# Display the plot\n",
    "plt.show()\n",
    "\n",
    "print(type(plt))"
   ]
  },
  {
   "cell_type": "code",
   "execution_count": null,
   "metadata": {
    "collapsed": true
   },
   "outputs": [],
   "source": [
    "# Plot all columns (default)\n",
    "df.plot()\n",
    "plt.show()\n",
    "\n",
    "# Plot all columns as subplots\n",
    "df.plot(subplots=True)\n",
    "plt.show()\n",
    "\n",
    "# Plot just the Dew Point data\n",
    "column_list1 = ['Dew Point (deg F)']\n",
    "df[column_list1].plot()\n",
    "plt.show()\n",
    "\n",
    "# Plot the Dew Point and Temperature data, but not the Pressure data\n",
    "column_list2 = ['Temperature (deg F)','Dew Point (deg F)']\n",
    "df[column_list2].plot()\n",
    "plt.show()\n"
   ]
  },
  {
   "cell_type": "markdown",
   "metadata": {},
   "source": [
    "## Assignment - Using pandas on my home brew data set\n",
    "\n",
    "### Introduction\n",
    "\n",
    "This assignment is an analysis exercise. It is not as much about the meaning of the analysis you will conduct as it is on the demonstration of common functionality you will use when doing data analysis with pandas. So first an for all it is a demonstration of your pandas skills.\n",
    "\n",
    "### Step 1: data set construction\n",
    "\n",
    "Construct an artificial dataset using either Excel, Google Sheets or numpy. Your constructed dataset has at least:\n",
    "\n",
    "1. 100 rows (measurements/events)\n",
    "1. 4 columns (variables)\n",
    "1. one date column with random daily dates in a period of at least 6 months\n",
    "1. 2 columns containing categorical variables\n",
    "1. 2 columns containing numerical variables\n",
    "\n",
    "You can use Excel's\n",
    "- rand()\n",
    "- randbetween()\n",
    "- norm.inv()\n",
    "- date()\n",
    "- vlookup()\n",
    "\n",
    "functions (or Google Sheets' equivalents) to construct your data set. If you use numpy. you can use the versatile random functions in it. If you wish you can polish your dataset by changing some randomly generated values by hand.\n",
    "\n",
    "Make up a story around your data. In other words: give your data meaning by explaining what your data represents. Being creative in making up your story helps you in improving the joy of doing this exercise! Even better: fabricate some compelling facts in your data that you will extract in your analysis of it.\n",
    "\n",
    "### Step 2: doing the analysis in pandas\n",
    "\n",
    "Conduct an analysis on your data set. Demonstrate your skills in using the following pandas functionality\n",
    "\n",
    "- creating indexes and multiply indices\n",
    "- stacking and unstacking indices\n",
    "- indexing and slicing using loc() and iloc()\n",
    "- using pivot table functionality\n",
    "- using grouping functionality both on categorical variables as on datetime variables\n",
    "- using basic statistical functions as count, mean, average and min/max\n",
    "- plotting (parts of) your data using pandas plotting functionality and seaborn\n",
    "\n",
    "Also, use an alternative SQL approach for one of your analysis steps. Just show that you are capable of leveraging your SQL skills in pandas.\n",
    "\n",
    "Annotate your analysis using markdown cells in your notebook. Briefly introduce each step in your analysis you take and lead your reader through your analysis. Here you have to apply your creativity to make up a sensible, interesting story for your user.\n",
    "\n",
    "Tip: consult the [Python Data Science Handbook](http://bit.ly/2ftE137). It has an excellent chapter on pandas with examples for all techniques you are asked to demonstrate."
   ]
  },
  {
   "cell_type": "code",
   "execution_count": 7,
   "metadata": {
    "collapsed": true
   },
   "outputs": [],
   "source": [
    "import datetime as dt\n",
    "import numpy as np\n",
    "import pandas as pd\n",
    "import random\n",
    "\n",
    "\n",
    "def get_random_dates(start_date=\"2017-01-01\", max_days=365, length=100):\n",
    "    return [np.datetime64(start_date) + range(max_days)[random.randint(0, max_days -1)] for i in range(length)]\n",
    "\n",
    "\n",
    "def get_random_cities(cities=[\"Berlin\", \"Düsseldorf\", \"Köln\", \"Stuttgart\", \"München\"], length=100):\n",
    "    return [cities[random.randint(0, len(cities) - 1)] for i in range(100)]\n",
    "\n",
    "\n",
    "def get_random_feinstaubwerte(diesel=None, min=5, max=30, length=100):\n",
    "    if diesel is None:\n",
    "        return [random.uniform(min, max) for i in range(length)]\n",
    "    result = []\n",
    "    for i in diesel:\n",
    "        value = random.uniform(min, max)\n",
    "        if i > 50:\n",
    "            value *= 1.5\n",
    "        result.append(value)\n",
    "    return result\n",
    "\n",
    "\n",
    "def get_random_diesel_percentage(length=100):\n",
    "    return [random.randint(45, 65) for i in range(length)]\n",
    "\n",
    "\n",
    "def get_random_dataframe(my_length=100):\n",
    "    dates = get_random_dates(length=my_length)\n",
    "    cities = get_random_cities(length=my_length)\n",
    "    diesel = get_random_diesel_percentage(length=my_length)\n",
    "    feinstaub = get_random_feinstaubwerte(diesel=diesel, length=my_length)\n",
    "    \n",
    "    result = pd.DataFrame({\"date\": dates, \"city\": cities,\n",
    "                           \"feinstaub\": feinstaub, \"diesel\": diesel})\n",
    "\n",
    "    result.drop_duplicates(subset=[\"date\", \"city\"], inplace=True)\n",
    "\n",
    "    result.sort_values(\"date\", inplace=True)\n",
    "    return result\n",
    "\n",
    "\n",
    "def main():\n",
    "    dates = get_random_dates()\n",
    "    cities = get_random_cities()\n",
    "    diesel = get_random_diesel_percentage()\n",
    "    feinstaubwerte = get_random_feinstaubwerte(diesel)\n",
    "    \n",
    "\n",
    "    a = open(\"data.csv\", \"w\")\n",
    "    a.write(\"date,city,feinstaub,dieselanteil\")\n",
    "    for i in range(100):\n",
    "        a.write(\"{},{},{},{}\\n\".format(dates[i],\n",
    "                                     cities[i],\n",
    "                                     feinstaubwerte[i],\n",
    "                                     diesel[i]))\n",
    "    a.close()\n",
    "\n",
    "\n",
    "if __name__ == \"__main__\":\n",
    "    main()"
   ]
  },
  {
   "cell_type": "code",
   "execution_count": 45,
   "metadata": {},
   "outputs": [
    {
     "data": {
      "text/plain": [
       "<seaborn.axisgrid.FacetGrid at 0x7fb7591ce4a8>"
      ]
     },
     "execution_count": 45,
     "metadata": {},
     "output_type": "execute_result"
    },
    {
     "data": {
      "image/png": "[encoded data removed]",
      "text/plain": [
       "<matplotlib.figure.Figure at 0x7fb7591ce668>"
      ]
     },
     "metadata": {},
     "output_type": "display_data"
    },
    {
     "data": {
      "image/png": "[encoded data removed]",
      "text/plain": [
       "<matplotlib.figure.Figure at 0x7fb759288320>"
      ]
     },
     "metadata": {},
     "output_type": "display_data"
    }
   ],
   "source": [
    "# analysing created data\n",
    "\n",
    "a = get_random_dataframe()\n",
    "\n",
    "# see if any one city has higher values for fine dust, conclusion should be no (random data, results may vary)\n",
    "a.groupby(\"city\").mean()\n",
    "\n",
    "%matplotlib inline\n",
    "\n",
    "# plotting simple relation between diesel percentage and fine dust measurements\n",
    "# difficult to find any meaningful data in this plot\n",
    "a.sort_values(\"diesel\").plot(x=\"diesel\", y=\"feinstaub\", style=\"-\")\n",
    "\n",
    "# using seaborn to draw linear regression model\n",
    "# shows slight rise in fine dust values with rising diesel percentages\n",
    "# as expected, random data was manipulated to show this\n",
    "import seaborn as sns\n",
    "sns.lmplot(x='diesel',y='feinstaub',data=a,fit_reg=True, ci=0) \n"
   ]
  }
 ],
 "metadata": {
  "kernelspec": {
   "display_name": "Python 3",
   "language": "python",
   "name": "python3"
  },
  "language_info": {
   "codemirror_mode": {
    "name": "ipython",
    "version": 3
   },
   "file_extension": ".py",
   "mimetype": "text/x-python",
   "name": "python",
   "nbconvert_exporter": "python",
   "pygments_lexer": "ipython3",
   "version": "3.5.2"
  }
 },
 "nbformat": 4,
 "nbformat_minor": 2
}
